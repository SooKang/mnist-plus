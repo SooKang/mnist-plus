{
 "metadata": {
  "name": "",
  "signature": "sha256:6d773114a115f797fe92edcef7b574fa805fe6f69903f31ddbe0b2c1ef3ffef7"
 },
 "nbformat": 3,
 "nbformat_minor": 0,
 "worksheets": [
  {
   "cells": [
    {
     "cell_type": "code",
     "collapsed": false,
     "input": [
      "import numpy as np\n",
      "import matplotlib.pyplot as plt\n",
      "from nolearn.dbn import DBN\n",
      "from sklearn.cross_validation import train_test_split\n",
      "from sklearn.decomposition import TruncatedSVD, PCA, RandomizedPCA\n",
      "from sklearn import metrics\n",
      "from sklearn.cluster import MiniBatchKMeans, KMeans\n",
      "\n",
      "X = np.load('blobs/X_train.npy')\n",
      "Y = np.load('blobs/Y_train.npy')\n",
      "print 'done loading'\n"
     ],
     "language": "python",
     "metadata": {},
     "outputs": [
      {
       "output_type": "stream",
       "stream": "stdout",
       "text": [
        "gnumpy: failed to import cudamat. Using npmat instead. No GPU will be used.\n",
        "done loading"
       ]
      },
      {
       "output_type": "stream",
       "stream": "stdout",
       "text": [
        "\n"
       ]
      }
     ],
     "prompt_number": 1
    },
    {
     "cell_type": "code",
     "collapsed": false,
     "input": [
      "mbk = KMeans(init='k-means++', n_clusters=4, n_init=10, verbose=0)\n",
      "mbk.fit(X)"
     ],
     "language": "python",
     "metadata": {},
     "outputs": []
    },
    {
     "cell_type": "code",
     "collapsed": false,
     "input": [
      "mbk_means_labels = mbk.labels_\n",
      "mbk_means_cluster_centers = mbk.cluster_centers_\n",
      "mbk_means_labels_unique = np.unique(mbk_means_labels)"
     ],
     "language": "python",
     "metadata": {},
     "outputs": [],
     "prompt_number": 73
    },
    {
     "cell_type": "code",
     "collapsed": false,
     "input": [
      "for i in range(10):\n",
      "    print i, np.where(mbk_means_labels == i)[0].shape"
     ],
     "language": "python",
     "metadata": {},
     "outputs": [
      {
       "output_type": "stream",
       "stream": "stdout",
       "text": [
        "0 (9263,)\n",
        "1 (1,)\n",
        "2 (33232,)\n",
        "3 (7504,)\n",
        "4 (0,)\n",
        "5 (0,)\n",
        "6 (0,)\n",
        "7 (0,)\n",
        "8 (0,)\n",
        "9 (0,)\n"
       ]
      }
     ],
     "prompt_number": 74
    },
    {
     "cell_type": "code",
     "collapsed": false,
     "input": [],
     "language": "python",
     "metadata": {},
     "outputs": []
    }
   ],
   "metadata": {}
  }
 ]
}